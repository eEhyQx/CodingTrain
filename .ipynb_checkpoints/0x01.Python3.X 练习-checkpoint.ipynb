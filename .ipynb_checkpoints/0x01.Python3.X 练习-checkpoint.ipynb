{
 "cells": [
  {
   "cell_type": "markdown",
   "metadata": {},
   "source": [
    "# Python3.X 练习\n",
    "\n",
    "---\n",
    "　　之前虽然也学过写过Python,不过只是Python2.7,与Python3.X相比还是有较大不同的。最近通知讯传来，不出意料的进入了CS专业,想着得趁暑假温习一下,于是找了一套质量不错的网课。与此同时,决定找套题库加以训练自己，双线进行。从基础开始,基础不牢,地动山摇。\n",
    "\n",
    "　　之后还会以同样的形式来学习一下Rust,了解一些系统结构层面的知识。\n"
   ]
  },
  {
   "cell_type": "code",
   "execution_count": null,
   "metadata": {},
   "outputs": [],
   "source": [
    "print(\"Hello,world\")"
   ]
  },
  {
   "cell_type": "markdown",
   "metadata": {},
   "source": [
    "## 题库的选择\n",
    "　　通过询问学长,取得如下备选题库列表：\n",
    "  + [Universal Online Judge](http://uoj.ac/)\n",
    "  + [Vijos](https://vijos.org/)\n",
    "  + [Python Tip](http://www.pythontip.com/coding/code_oj)\n",
    "  \n",
    "  考虑到语言练习的针对性,决定选用[Python Tip](http://www.pythontip.com/coding/code_oj)进行刷题。一共有174道题,预计在15天刷个大半,尽量全部完成（ 期间可能还要抽时间准备驾校科目一的考试）。废话不多说，咱开始吧。"
   ]
  },
  {
   "cell_type": "markdown",
   "metadata": {},
   "source": [
    "## 习题解法"
   ]
  },
  {
   "cell_type": "markdown",
   "metadata": {},
   "source": [
    "### 0x01. a+b"
   ]
  },
  {
   "cell_type": "code",
   "execution_count": null,
   "metadata": {},
   "outputs": [],
   "source": [
    "a=int(input(\"a的值是？\"))\n",
    "b=int(input(\"b的值是？\"))\n",
    "print(\"a+b=\",a+b)"
   ]
  },
  {
   "cell_type": "markdown",
   "metadata": {},
   "source": [
    "* 与2.7版本不太一样的是，3中print改为了函数；通过查找doc也可以发现print函数提供了一些参数来满足日常需要，如：是否换行等等。\n",
    "* 丢弃了raw_input\n",
    "* input后得到的值默认类型是字符串，为了使被赋值的变量最终可以参与计算，初步有以下两种做法：\n",
    "     * 在前嵌套int函数\n",
    "     * 在前嵌套eval函数"
   ]
  },
  {
   "cell_type": "markdown",
   "metadata": {},
   "source": [
    "### 0x02. 列表排序\n",
    "　　给你一个列表 L, 对L进行升序排序并输出排序后的列表。"
   ]
  },
  {
   "cell_type": "code",
   "execution_count": null,
   "metadata": {},
   "outputs": [],
   "source": [
    "help(list.sort)"
   ]
  },
  {
   "cell_type": "code",
   "execution_count": null,
   "metadata": {},
   "outputs": [],
   "source": [
    "help(sorted)"
   ]
  },
  {
   "cell_type": "code",
   "execution_count": null,
   "metadata": {},
   "outputs": [],
   "source": [
    "l=[1,4,2,3,7,5,4]\n",
    "print(l)\n",
    "sorted(l)\n",
    "print(l)\n",
    "l.sort()\n",
    "print(l)"
   ]
  },
  {
   "cell_type": "code",
   "execution_count": null,
   "metadata": {},
   "outputs": [],
   "source": [
    "l.sort(reverse=True)\n",
    "print(l)"
   ]
  },
  {
   "cell_type": "markdown",
   "metadata": {},
   "source": [
    "* 区别sorted与list.sort的区别,用sort函数对列表排序时会影响列表本身，而sorted不会；\n",
    "* reverse参数用于控制顺倒序排序，默认值为False进行递增排序，若改为True则递减."
   ]
  },
  {
   "cell_type": "markdown",
   "metadata": {},
   "source": [
    "## 0x03.字符串逆序\n",
    "　　给你一个字符串 a， 请你输出逆序之后的a。\n",
    "### 考虑通过字符串转数组再逆序分片"
   ]
  },
  {
   "cell_type": "code",
   "execution_count": null,
   "metadata": {},
   "outputs": [],
   "source": [
    "help(str.join)"
   ]
  },
  {
   "cell_type": "code",
   "execution_count": null,
   "metadata": {},
   "outputs": [],
   "source": [
    "strA= input(\"输入需要逆序的字符串\")\n",
    "l=[]\n",
    "'''for i in strA:\n",
    "    l.append(i)'''\n",
    "l=list(strA)\n",
    "l.reverse()\n",
    "print (\"\".join(l))"
   ]
  },
  {
   "cell_type": "markdown",
   "metadata": {},
   "source": [
    "此处复习了一下join的用法，即我们采用空字符串.join(数组)的方法将数组转为了字符串.\n",
    "### 采用索引的方法"
   ]
  },
  {
   "cell_type": "code",
   "execution_count": null,
   "metadata": {},
   "outputs": [],
   "source": [
    "strA= input(\"输入需要逆序的字符串\")\n",
    "print(strA[::-1])"
   ]
  },
  {
   "cell_type": "markdown",
   "metadata": {},
   "source": [
    "完全分片后设置负步长，代码简单了许多。\n",
    "## 0x04.输出字典键\n",
    "　　给你一字典一个，如A = {1：1,2：2,3：3}。，输出字典一个的键，以\"，\"连接，如' 1,2,3'要求键按照字典搜索序升序排列（注意关键可能是字符串）。"
   ]
  },
  {
   "cell_type": "code",
   "execution_count": null,
   "metadata": {},
   "outputs": [],
   "source": [
    "#test\n",
    "a=input(\"请输入一个字典\")\n",
    "print(type(a))"
   ]
  },
  {
   "cell_type": "code",
   "execution_count": null,
   "metadata": {},
   "outputs": [],
   "source": [
    "#test\n",
    "a=eval(input(\"请输入一个字典\"))\n",
    "print(type(a))"
   ]
  },
  {
   "cell_type": "code",
   "execution_count": null,
   "metadata": {},
   "outputs": [],
   "source": [
    "a=eval(input(\"请输入一个字典\"))\n",
    "for key,value in a.items():\n",
    "    print(key,end=\",\")\n",
    "    #print(value,end=\",\")"
   ]
  },
  {
   "cell_type": "markdown",
   "metadata": {},
   "source": [
    "　　这里采用字典键值对应解包再单独输出的方法解决，仍然有一点不足之处，就是末尾的\"，\"与题设不符合。"
   ]
  },
  {
   "cell_type": "code",
   "execution_count": null,
   "metadata": {},
   "outputs": [],
   "source": [
    "a=eval(input(\"请输入一个字典\"))\n",
    "s=\"\"\n",
    "for key,value in a.items():\n",
    "    s=s+\",\"+str(key)\n",
    "s=s[1:]\n",
    "print(s)"
   ]
  },
  {
   "cell_type": "markdown",
   "metadata": {},
   "source": [
    "　　我得承认这种做法美感全无,先将就着，后期再改。\n",
    "## 0x05.输出字符奇数位置的字符串 \n",
    "　　给你一个字符串 a， 输出a中奇数位置字符构成的字符串（位置编号从1开始）。"
   ]
  },
  {
   "cell_type": "code",
   "execution_count": null,
   "metadata": {},
   "outputs": [],
   "source": [
    "strA=input(\"请输入一个字符串\")\n",
    "for i in range(0,len(strA)):\n",
    "    if i%2==0:\n",
    "        print(strA[i:i+1],end=\"\")"
   ]
  },
  {
   "cell_type": "markdown",
   "metadata": {},
   "source": [
    "　　常规采用字符串分片方法来实现。\n",
    "## 0x06.求解100以内所有的素数\n",
    "　　输出100以内所有的素数，素数之间用空格区分。"
   ]
  },
  {
   "cell_type": "code",
   "execution_count": null,
   "metadata": {},
   "outputs": [],
   "source": [
    "for i in range(2,101):\n",
    "    flag=True\n",
    "    for j in range(2,int(i/2)+1):\n",
    "        if i%j==0:\n",
    "            flag=False\n",
    "            break\n",
    "    if flag:\n",
    "        print(i,end=\" \")\n",
    "        \n",
    "        "
   ]
  },
  {
   "cell_type": "markdown",
   "metadata": {},
   "source": [
    "这是一种常规的做法，通过for语句嵌套，逐个判定后再输出。\n",
    "## 0x07.求矩形面积\n",
    "　　已知矩形长a,宽b,输出其面积和周长，面积和周长以一个空格隔开。"
   ]
  },
  {
   "cell_type": "code",
   "execution_count": null,
   "metadata": {},
   "outputs": [],
   "source": [
    "a,b=eval(input(\"长方形的长与宽分别是？\"))\n",
    "print(a*b,2*(a+b),end=\" \")"
   ]
  },
  {
   "cell_type": "markdown",
   "metadata": {
    "collapsed": true
   },
   "source": [
    "## 0x08.求中位数\n",
    "　　给你一个整数列表L, 输出L的中位数（若结果为小数，则保留一位小数）。"
   ]
  },
  {
   "cell_type": "code",
   "execution_count": null,
   "metadata": {},
   "outputs": [],
   "source": [
    "l=eval(input(\"请输入一个序列\"))\n",
    "l.sort()\n",
    "print(l)\n",
    "if (len(l)+1)%2==1:\n",
    "    print((l[(len(l)+1)//2-1]+l[(len(l)+1)//2])/2)\n",
    "else:\n",
    "    print(l[(len(l)+1)//2-1])"
   ]
  },
  {
   "cell_type": "markdown",
   "metadata": {},
   "source": [
    "## 0x09.最大公约数\n",
    "　　给你两个正整数a和b， 输出它们的最大公约数。"
   ]
  },
  {
   "cell_type": "code",
   "execution_count": null,
   "metadata": {},
   "outputs": [],
   "source": [
    "a,b=eval(input(\"请输入一组数a,b\"))\n",
    "a,b=max(a,b),min(a,b)\n",
    "while a*b!=0:\n",
    "    a,b=b,a%b\n",
    "print(a)"
   ]
  },
  {
   "cell_type": "markdown",
   "metadata": {},
   "source": [
    "　　这一段写的很Python，充分体现了Python的简洁。\n",
    "## 0x0a.最小公倍数\n",
    "　　给你两个正整数a和b， 输出它们的最小公倍数。"
   ]
  },
  {
   "cell_type": "code",
   "execution_count": null,
   "metadata": {},
   "outputs": [],
   "source": [
    "def gys(a,b):\n",
    "    a,b=max(a,b),min(a,b)\n",
    "    while a*b!=0:\n",
    "        a,b=b,a%b\n",
    "    return a\n",
    "a,b=eval(input(\"请输入一组数a,b\"))\n",
    "print(a*b//gys(a,b))"
   ]
  },
  {
   "cell_type": "markdown",
   "metadata": {},
   "source": [
    "## 0x0b.结尾0的个数  \n",
    "给你一个正整数列表L,输出L内所有数字的乘积末尾0的个数。"
   ]
  },
  {
   "cell_type": "code",
   "execution_count": null,
   "metadata": {},
   "outputs": [],
   "source": [
    "l=eval(input(\"请输入一个序列\"))\n",
    "print(l.count(0))"
   ]
  },
  {
   "cell_type": "markdown",
   "metadata": {},
   "source": [
    "　　不像是道Python题...\n",
    "## 0x0c.结尾非零数的奇偶性\n",
    "　　给你一个正整数列表L,判断列表内所有数字乘积的最后一个非零数字的奇偶性。如果为奇数输出1,偶数则输出0。"
   ]
  },
  {
   "cell_type": "code",
   "execution_count": null,
   "metadata": {},
   "outputs": [],
   "source": [
    "l=eval(input(\"请输入一个序列\"))\n",
    "s=1\n",
    "for i in l:\n",
    "    s=s*i\n",
    "    s=int(str(int(str(s)[::-1]))[0])\n",
    "print(s%2)"
   ]
  },
  {
   "cell_type": "markdown",
   "metadata": {},
   "source": [
    "　这显然不是最优的解法，我是想在有限内存下做一个能保存最后一个非零数的另类版本（好吧就是我题目看错了...）。本题要考虑序列中是否含0的情况，加个if语句即可，在此不赘述。"
   ]
  },
  {
   "cell_type": "markdown",
   "metadata": {},
   "source": [
    "## 0x0d.光棍的悲伤 \n",
    "　　光棍们对1总是那么敏感，因此每年的11.11被戏称为光棍节。小Py光棍几十载，光棍自有光棍的快乐。让我们勇敢地面对光棍的身份吧，现在就证明自己：给你一个整数a，数出a在二进制表示下1的个数，并输出。"
   ]
  },
  {
   "cell_type": "code",
   "execution_count": null,
   "metadata": {},
   "outputs": [],
   "source": [
    "a=int(input(\"输入一个数\"))\n",
    "print(list(bin(a)).count('1'))"
   ]
  },
  {
   "cell_type": "markdown",
   "metadata": {},
   "source": [
    "　　大概只知道int,不知道bin,oct,hex的存在？\n",
    "## 0x0e.Python之美 \n",
    "　　输出Python之禅。\n",
    "   注意：输出python之禅的源码即可，不要转换为英文。（小小的提示：print this.s)"
   ]
  },
  {
   "cell_type": "code",
   "execution_count": null,
   "metadata": {},
   "outputs": [],
   "source": [
    "import this\n",
    "print(this.s)"
   ]
  },
  {
   "cell_type": "markdown",
   "metadata": {},
   "source": [
    "　　优秀。\n",
    "## 0x0f.大小写转换 \n",
    "  给定一个字符串a, 将a中的大写字母 转换成小写，其它字符不变，并输出。"
   ]
  },
  {
   "cell_type": "code",
   "execution_count": null,
   "metadata": {},
   "outputs": [],
   "source": [
    "a=input(\"输入一个字符串\")\n",
    "print(a.upper())"
   ]
  },
  {
   "cell_type": "markdown",
   "metadata": {},
   "source": [
    "　　运用Python字符串内建属性.upper来实现，类似的还有.lower来转小写。\n",
    "## 0x10.人民币金额打印 \n",
    "　　银行在打印票据的时候，常常需要将阿拉伯数字表示的人民币金额转换为大写表示，现在请你来完成这样一个程序。\n",
    "在中文大写方式中，0到10以及100、1000、10000被依次表示为:零壹贰叁肆伍陆柒捌玖拾佰仟万。现在给你一个整数a(|a|<100000000), 请你打印出人民币大写表示。"
   ]
  },
  {
   "cell_type": "code",
   "execution_count": null,
   "metadata": {},
   "outputs": [],
   "source": [
    "a=input(\"输入金额\")\n",
    "num={'0':'零', '1':'壹', '2':'贰', '3':'叁', '4':'肆', '5':'伍', '6':'陆', '7':'柒', '8':'捌', '9':'玖'}\n",
    "word=[ \"仟\", \"佰\", \"拾\", \"万\", \"仟\", \"佰\", \"拾\", \"圆\"]\n",
    "b=a.zfill(8)\n",
    "def read4(k):\n",
    "    t=num[k[0]]+word[4]+num[k[1]]+word[5]+num[k[2]]+word[6]+num[k[3]]\n",
    "    t=t.replace(\"零拾\",\"零\")\n",
    "    t=t.replace(\"零佰\",\"零\")\n",
    "    t=t.replace(\"零仟\",\"零\")\n",
    "    t=t.strip(\"零\")\n",
    "    return(t)\n",
    "if len(a)<4:\n",
    "    print(read4(b[4:])+word[7])\n",
    "elif b[4]==\"0\":\n",
    "    print(read4(b[0:4])+word[3]+num[\"0\"]+read4(b[4:])+word[7])\n",
    "else:\n",
    "    print(read4(b[0:4])+word[3]+read4(b[4:])+word[7])"
   ]
  },
  {
   "cell_type": "markdown",
   "metadata": {},
   "source": [
    "　　为了方便表达，在此不加入金额为负的读取方式，实际改良其实很简单。\n",
    "   要承认这道题花了点时间，不是因为题目太难，而是看到平台上有人想了一天想出了一种仅用47行就能表述的方法。我的想法是：这么一道小题为什么要用47行？故思之，运用了Python在字符串处理方面的强大能力，19行就解决了这个问题。这里用到了.zfill,.replace,.strip等方法。\n",
    "## 0x11.公约数的个数 \n",
    "　　给你两个正整数a,b,  输出它们公约数的个数。"
   ]
  },
  {
   "cell_type": "code",
   "execution_count": null,
   "metadata": {},
   "outputs": [],
   "source": [
    "a,b=eval(input(\"输入一组a,b\"))\n",
    "setofa={1,a}\n",
    "setofb={1,b}\n",
    "def gys(x,s):\n",
    "    for i in range(2,x//2+1):\n",
    "        if x%i==0:\n",
    "            s.update([i,x//i])\n",
    "    return(s)\n",
    "print(len(gys(a,setofa) & gys(b,setofb)))"
   ]
  },
  {
   "cell_type": "markdown",
   "metadata": {},
   "source": [
    "　　这里我们复习了一下几何方法，以取交集的形式直接求得了公共因子集。当然，也可以借助math组建中的sqrt函数来减少无用计算量，但为了尽量减少对库的使用，没有这么做。\n",
    "## 0x12.逆解最大公约数与最小公倍数 \n",
    "　　我们经常遇到的问题是给你两个数，要你求最大公约数和最小公倍数。今天我们反其道而行之，给你两个数a和b，计算出它们分别是哪两个数的最大公约数和最小公倍数。输出这两个数，小的在前，大的在后，以空格隔开。若有多组解，输出它们之和最小的那组。注：所给数据都有解，不用考虑无解的情况。"
   ]
  },
  {
   "cell_type": "code",
   "execution_count": null,
   "metadata": {},
   "outputs": [],
   "source": [
    "import math\n",
    "a,b=eval(input((\"输入一组a,b\")))\n",
    "a,b=min(a,b),max(a,b)\n",
    "t=int(b/a)\n",
    "for i in range(int(math.sqrt(t))+1,t+1):\n",
    "    if t%i==0:\n",
    "        break\n",
    "print(str(a*int(t/i))+\" \"+str(a*i))"
   ]
  },
  {
   "cell_type": "markdown",
   "metadata": {},
   "source": [
    "　　用了一些基本的数学处理，解决了这个问题。\n",
    "## 0x13.单身情歌 \n",
    "　　抓不住爱情的我 总是眼睁睁看它溜走 ...现在来练习一下发现爱的能力，给你一个字符串a,如果其中包含\"LOVE\"（love不区分大小写)则输出LOVE，否则输出SINGLE。"
   ]
  },
  {
   "cell_type": "markdown",
   "metadata": {},
   "source": [
    "a=input(\"输入一个字符串\")\n",
    "a=a.lower()\n",
    "if \"love\" in a:\n",
    "    print(\"LOVE\")\n",
    "else:\n",
    "    print(\"SINGLE\")"
   ]
  },
  {
   "cell_type": "markdown",
   "metadata": {},
   "source": [
    "　　论一个CS本科生的基本素养...\n",
    "## 0x14.信息加密\n",
    "　　给你个小写英文字符串a和一个非负数b(0<=b<26), 将a中的每个小写字符替换成字母表中比它大b的字母。这里将字母表的z和a相连，如果超过了z就回到了a。"
   ]
  },
  {
   "cell_type": "code",
   "execution_count": null,
   "metadata": {},
   "outputs": [],
   "source": [
    "a=input('请输入一个小写字符串')\n",
    "b=int(input('请输入一个非负整数ｂ'))\n",
    "a=list(a)\n",
    "for i in a:\n",
    "    i=chr(ord(i)+b%26)\n",
    "    print(i,end=\"\")"
   ]
  },
  {
   "cell_type": "markdown",
   "metadata": {},
   "source": [
    "　　 大概是浙江考生学了VB的好处。\n",
    " ## 0x15.回文子串\n",
    " 　　给你一个字符串a和一个正整数n,判断a中是否存在长度为n的回文子串。如果存在，则输出YES，否则输出NO。\n",
    "回文串的定义：记串str逆序之后的字符串是str1，若str=str1,则称str是回文串，如\"abcba\"."
   ]
  },
  {
   "cell_type": "code",
   "execution_count": null,
   "metadata": {},
   "outputs": [],
   "source": [
    "a=input(\"请输入一个字符串\")\n",
    "n=eval(input('输入长度'))\n",
    "b=a[::-1]\n",
    "f=False\n",
    "for i in range(1,len(a)+2-n):\n",
    "    if a[i:i+n-1] in b:\n",
    "        print('YES')\n",
    "        f=True\n",
    "        break\n",
    "if not f:    \n",
    "    print('NO')"
   ]
  },
  {
   "cell_type": "markdown",
   "metadata": {},
   "source": [
    "　　采用索引实现逆序后采取成员检测的方案。\n",
    "## 0x16.时间就是金钱\n",
    "　　 给你两个时间st和et(00:00:00<=st <= et<=23:59:59), 请你给出这两个时间间隔的秒数。"
   ]
  },
  {
   "cell_type": "code",
   "execution_count": null,
   "metadata": {},
   "outputs": [],
   "source": [
    "st=input('输入第一个时间')\n",
    "et=input('输入第二个时间')\n",
    "stnum=int(st[6:])+int(st[3:5])*60+int(st[0:2])*3600\n",
    "etnum=int(et[6:])+int(et[3:5])*60+int(et[0:2])*3600\n",
    "print(etnum-stnum)"
   ]
  },
  {
   "cell_type": "markdown",
   "metadata": {},
   "source": [
    "   有些暴力，但没什么毛病吧。\n",
    "## 0x17.365 OR 366\n",
    "　 一年有多少天，这是个大问题，很值得思考。现在给你一个年份year(year为四位数字的字符串，如\"2008\",\"0012\"),\n",
    "你输出这一年的天数。如year=\"2013\", 则输出365。"
   ]
  },
  {
   "cell_type": "code",
   "execution_count": null,
   "metadata": {},
   "outputs": [],
   "source": [
    "year=input('year=？')\n",
    "if int(year)%4==0 and int(year)%100 !=0:\n",
    "    print('366')\n",
    "else:\n",
    "    print('365')\n",
    "    "
   ]
  },
  {
   "cell_type": "markdown",
   "metadata": {},
   "source": [
    "　　exm...\n",
    "## 0x18.一马当先\n",
    "　　下过象棋的人都知道，马只能走'日'字形（包括旋转90°的日），现在想象一下，给你一个n行m列网格棋盘，\n",
    "棋盘的左下角有一匹马，请你计算至少需要几步可以将它移动到棋盘的右上角，若无法走到，则输出-1.\n",
    "如n=1，m=2,则至少需要1步；若n=1，m=3,则输出-1。\n",
    "\n",
    "解答请参阅我的另一篇文章："
   ]
  },
  {
   "cell_type": "markdown",
   "metadata": {
    "collapsed": true
   },
   "source": [
    "[“一马当先”问题的一种BFS剪枝解答](https://zhuanlan.zhihu.com/p/40080019)"
   ]
  },
  {
   "cell_type": "code",
   "execution_count": 36,
   "metadata": {},
   "outputs": [
    {
     "name": "stdout",
     "output_type": "stream",
     "text": [
      "输入m行4\n",
      "输入n列8\n",
      "4\n"
     ]
    }
   ],
   "source": [
    "m,n=int(input(\"输入m行\")),int(input(\"输入n列\"))\n",
    "def move(loc,i):\n",
    "    locs=loc[:]\n",
    "    if i==1:\n",
    "        locs[0],locs[1]=loc[0]-2,loc[1]+1\n",
    "    elif i==2:\n",
    "        locs[0],locs[1]=loc[0]-1,loc[1]+2\n",
    "    elif i==3:\n",
    "        locs[0],locs[1]=loc[0]+1,loc[1]+2\n",
    "    elif i==4:\n",
    "        locs[0],locs[1]=loc[0]+2,loc[1]+1\n",
    "    elif i==5:\n",
    "        locs[0],locs[1]=loc[0]+2,loc[1]-1\n",
    "    elif i==6:\n",
    "        locs[0],locs[1]=loc[0]+1,loc[1]-2\n",
    "    elif i==7:\n",
    "        locs[0],locs[1]=loc[0]-1,loc[1]-2\n",
    "    elif i==8:\n",
    "        locs[0],locs[1]=loc[0]-2,loc[1]-1\n",
    "    return locs\n",
    "def solve():\n",
    "    global m,n\n",
    "    temp=[[],[[0,0]],[]]\n",
    "    t=1\n",
    "    f=True\n",
    "    while f:\n",
    "        f=False\n",
    "        for loc in temp[1]:\n",
    "            for i in range(1,9):\n",
    "                if move(loc,i)==[m,n]:\n",
    "                    return t\n",
    "                elif move(loc,i)[0]>=0 and move(loc,i)[1]>=0 and move(loc,i)[0]<=m and move(loc,i)[1]<=n and not(move(loc,i) in temp[0] or move(loc,i) in temp[1] or move(loc,i) in temp[2]):\n",
    "                    temp[2].append(move(loc,i))\n",
    "                    f=True\n",
    "        t+=1\n",
    "        del temp[0]\n",
    "        temp.append([])\n",
    "    return -1\n",
    "print(solve())        "
   ]
  },
  {
   "cell_type": "markdown",
   "metadata": {},
   "source": []
  }
 ],
 "metadata": {
  "kernelspec": {
   "display_name": "Python 3",
   "language": "python",
   "name": "python3"
  },
  "language_info": {
   "codemirror_mode": {
    "name": "ipython",
    "version": 3
   },
   "file_extension": ".py",
   "mimetype": "text/x-python",
   "name": "python",
   "nbconvert_exporter": "python",
   "pygments_lexer": "ipython3",
   "version": "3.6.4"
  }
 },
 "nbformat": 4,
 "nbformat_minor": 2
}
