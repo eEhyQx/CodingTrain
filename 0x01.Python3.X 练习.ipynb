{
 "cells": [
  {
   "cell_type": "markdown",
   "metadata": {},
   "source": [
    "# Python3.X 练习\n",
    "\n",
    "---\n",
    "　　之前虽然也学过写过Python,不过只是Python2.7,与Python3.X相比还是有较大不同的。最近通知讯传来，不出意料的进入了CS专业,想着得趁暑假温习一下,于是找了一套质量不错的网课。与此同时,决定找套题库加以训练自己，双线进行。从基础开始,基础不牢,地动山摇。\n",
    "\n",
    "　　之后还会以同样的形式来学习一下Rust,了解一些系统结构层面的知识。\n"
   ]
  },
  {
   "cell_type": "code",
   "execution_count": 13,
   "metadata": {},
   "outputs": [
    {
     "name": "stdout",
     "output_type": "stream",
     "text": [
      "Hello,world\n"
     ]
    }
   ],
   "source": [
    "print(\"Hello,world\")"
   ]
  },
  {
   "cell_type": "markdown",
   "metadata": {},
   "source": [
    "## 题库的选择\n",
    "　　通过询问学长,取得如下备选题库列表：\n",
    "  + [Universal Online Judge](http://uoj.ac/)\n",
    "  + [Vijos](https://vijos.org/)\n",
    "  + [Python Tip](http://www.pythontip.com/coding/code_oj)\n",
    "  \n",
    "  考虑到语言练习的针对性,决定选用[Python Tip](http://www.pythontip.com/coding/code_oj)进行刷题。一共有174道题,预计在15天刷个大半,尽量全部完成（ 期间可能还要抽时间准备驾校科目一的考试）。废话不多说，咱开始吧。"
   ]
  },
  {
   "cell_type": "markdown",
   "metadata": {},
   "source": [
    "## 习题解法"
   ]
  },
  {
   "cell_type": "markdown",
   "metadata": {},
   "source": [
    "### 0x01. a+b"
   ]
  },
  {
   "cell_type": "code",
   "execution_count": 7,
   "metadata": {},
   "outputs": [
    {
     "name": "stdout",
     "output_type": "stream",
     "text": [
      "a的值是？4\n",
      "b的值是？7\n",
      "a+b= 11\n"
     ]
    }
   ],
   "source": [
    "a=int(input(\"a的值是？\"))\n",
    "b=int(input(\"b的值是？\"))\n",
    "print(\"a+b=\",a+b)"
   ]
  },
  {
   "cell_type": "markdown",
   "metadata": {},
   "source": [
    "* 与2.7版本不太一样的是，3中print改为了函数；通过查找doc也可以发现print函数提供了一些参数来满足日常需要，如：是否换行等等。\n",
    "* 丢弃了raw_input\n",
    "* input后得到的值默认类型是字符串，为了使被赋值的变量最终可以参与计算，初步有以下两种做法：\n",
    "     * 在前嵌套int函数\n",
    "     * 在前嵌套eval函数"
   ]
  },
  {
   "cell_type": "markdown",
   "metadata": {},
   "source": [
    "### 0x02. 列表排序\n",
    "　　给你一个列表 L, 对L进行升序排序并输出排序后的列表。"
   ]
  },
  {
   "cell_type": "code",
   "execution_count": 1,
   "metadata": {},
   "outputs": [
    {
     "name": "stdout",
     "output_type": "stream",
     "text": [
      "Help on method_descriptor:\n",
      "\n",
      "sort(...)\n",
      "    L.sort(key=None, reverse=False) -> None -- stable sort *IN PLACE*\n",
      "\n"
     ]
    }
   ],
   "source": [
    "help(list.sort)"
   ]
  },
  {
   "cell_type": "code",
   "execution_count": 5,
   "metadata": {},
   "outputs": [
    {
     "name": "stdout",
     "output_type": "stream",
     "text": [
      "Help on built-in function sorted in module builtins:\n",
      "\n",
      "sorted(iterable, /, *, key=None, reverse=False)\n",
      "    Return a new list containing all items from the iterable in ascending order.\n",
      "    \n",
      "    A custom key function can be supplied to customize the sort order, and the\n",
      "    reverse flag can be set to request the result in descending order.\n",
      "\n"
     ]
    }
   ],
   "source": [
    "help(sorted)"
   ]
  },
  {
   "cell_type": "code",
   "execution_count": 11,
   "metadata": {},
   "outputs": [
    {
     "name": "stdout",
     "output_type": "stream",
     "text": [
      "[1, 4, 2, 3, 7, 5, 4]\n",
      "[1, 4, 2, 3, 7, 5, 4]\n",
      "[1, 2, 3, 4, 4, 5, 7]\n"
     ]
    }
   ],
   "source": [
    "l=[1,4,2,3,7,5,4]\n",
    "print(l)\n",
    "sorted(l)\n",
    "print(l)\n",
    "l.sort()\n",
    "print(l)"
   ]
  },
  {
   "cell_type": "code",
   "execution_count": 12,
   "metadata": {},
   "outputs": [
    {
     "name": "stdout",
     "output_type": "stream",
     "text": [
      "[7, 5, 4, 4, 3, 2, 1]\n"
     ]
    }
   ],
   "source": [
    "l.sort(reverse=True)\n",
    "print(l)"
   ]
  },
  {
   "cell_type": "markdown",
   "metadata": {},
   "source": [
    "* 区别sorted与list.sort的区别,用sort函数对列表排序时会影响列表本身，而sorted不会；\n",
    "* reverse参数用于控制顺倒序排序，默认值为False进行递增排序，若改为True则递减."
   ]
  },
  {
   "cell_type": "markdown",
   "metadata": {},
   "source": [
    "## 0x03.字符串逆序\n",
    "　　给你一个字符串 a， 请你输出逆序之后的a。\n",
    "### 考虑通过字符串转数组再逆序分片"
   ]
  },
  {
   "cell_type": "code",
   "execution_count": 1,
   "metadata": {},
   "outputs": [
    {
     "name": "stdout",
     "output_type": "stream",
     "text": [
      "Help on method_descriptor:\n",
      "\n",
      "join(...)\n",
      "    S.join(iterable) -> str\n",
      "    \n",
      "    Return a string which is the concatenation of the strings in the\n",
      "    iterable.  The separator between elements is S.\n",
      "\n"
     ]
    }
   ],
   "source": [
    "help(str.join)"
   ]
  },
  {
   "cell_type": "code",
   "execution_count": 7,
   "metadata": {},
   "outputs": [
    {
     "name": "stdout",
     "output_type": "stream",
     "text": [
      "输入需要逆序的字符串1212\n",
      "2121\n"
     ]
    }
   ],
   "source": [
    "strA= input(\"输入需要逆序的字符串\")\n",
    "l=[]\n",
    "'''for i in strA:\n",
    "    l.append(i)'''\n",
    "l=list(strA)\n",
    "l.reverse()\n",
    "print (\"\".join(l))"
   ]
  },
  {
   "cell_type": "markdown",
   "metadata": {},
   "source": [
    "此处复习了一下join的用法，即我们采用空字符串.join(数组)的方法将数组转为了字符串.\n",
    "### 采用索引的方法"
   ]
  },
  {
   "cell_type": "code",
   "execution_count": 9,
   "metadata": {},
   "outputs": [
    {
     "name": "stdout",
     "output_type": "stream",
     "text": [
      "输入需要逆序的字符串567204\n",
      "402765\n"
     ]
    }
   ],
   "source": [
    "strA= input(\"输入需要逆序的字符串\")\n",
    "print(strA[::-1])"
   ]
  },
  {
   "cell_type": "markdown",
   "metadata": {},
   "source": [
    "完全分片后设置负步长，代码简单了许多。\n",
    "## 0x04.输出字典键\n",
    "　　给你一字典一个，如A = {1：1,2：2,3：3}。，输出字典一个的键，以\"，\"连接，如' 1,2,3'要求键按照字典搜索序升序排列（注意关键可能是字符串）。"
   ]
  },
  {
   "cell_type": "code",
   "execution_count": 3,
   "metadata": {},
   "outputs": [
    {
     "name": "stdout",
     "output_type": "stream",
     "text": [
      "请输入一个字典{1:1,2:2,3:3}\n",
      "<class 'str'>\n"
     ]
    }
   ],
   "source": [
    "#test\n",
    "a=input(\"请输入一个字典\")\n",
    "print(type(a))"
   ]
  },
  {
   "cell_type": "code",
   "execution_count": 4,
   "metadata": {},
   "outputs": [
    {
     "name": "stdout",
     "output_type": "stream",
     "text": [
      "请输入一个字典{1:1,2:2,3:3}\n",
      "<class 'dict'>\n"
     ]
    }
   ],
   "source": [
    "#test\n",
    "a=eval(input(\"请输入一个字典\"))\n",
    "print(type(a))"
   ]
  },
  {
   "cell_type": "code",
   "execution_count": 10,
   "metadata": {},
   "outputs": [
    {
     "name": "stdout",
     "output_type": "stream",
     "text": [
      "请输入一个字典{1:\"你好\",2:\"我是\",3:\"张犬\"}\n",
      "1,2,3,"
     ]
    }
   ],
   "source": [
    "a=eval(input(\"请输入一个字典\"))\n",
    "for key,value in a.items():\n",
    "    print(key,end=\",\")\n",
    "    #print(value,end=\",\")"
   ]
  },
  {
   "cell_type": "markdown",
   "metadata": {},
   "source": [
    "　　这里采用字典键值对应解包再单独输出的方法解决，仍然有一点不足之处，就是末尾的\"，\"与题设不符合。"
   ]
  },
  {
   "cell_type": "code",
   "execution_count": 7,
   "metadata": {},
   "outputs": [
    {
     "name": "stdout",
     "output_type": "stream",
     "text": [
      "请输入一个字典{1:\"你好\",2:\"我是\",3:\"张犬\"}\n",
      "1,2,3\n"
     ]
    }
   ],
   "source": [
    "a=eval(input(\"请输入一个字典\"))\n",
    "s=\"\"\n",
    "for key,value in a.items():\n",
    "    s=s+\",\"+str(key)\n",
    "s=s[1:]\n",
    "print(s)"
   ]
  },
  {
   "cell_type": "markdown",
   "metadata": {},
   "source": [
    "　　我得承认这种做法美感全无,先将就着，后期再改。\n",
    "## 0x05.输出字符奇数位置的字符串 \n",
    "　　给你一个字符串 a， 输出a中奇数位置字符构成的字符串（位置编号从1开始）。"
   ]
  },
  {
   "cell_type": "code",
   "execution_count": 6,
   "metadata": {},
   "outputs": [
    {
     "name": "stdout",
     "output_type": "stream",
     "text": [
      "请输入一个字符串qwertyu\n",
      "qetu"
     ]
    }
   ],
   "source": [
    "strA=input(\"请输入一个字符串\")\n",
    "for i in range(0,len(strA)):\n",
    "    if i%2==0:\n",
    "        print(strA[i:i+1],end=\"\")"
   ]
  },
  {
   "cell_type": "markdown",
   "metadata": {},
   "source": [
    "　　常规采用字符串分片方法来实现。\n",
    "## 0x06.求解100以内所有的素数\n",
    "　　输出100以内所有的素数，素数之间用空格区分。"
   ]
  },
  {
   "cell_type": "code",
   "execution_count": 5,
   "metadata": {},
   "outputs": [
    {
     "name": "stdout",
     "output_type": "stream",
     "text": [
      "2 3 5 7 11 13 17 19 23 29 31 37 41 43 47 53 59 61 67 71 73 79 83 89 97 "
     ]
    }
   ],
   "source": [
    "for i in range(2,101):\n",
    "    flag=True\n",
    "    for j in range(2,int(i/2)+1):\n",
    "        if i%j==0:\n",
    "            flag=False\n",
    "            break\n",
    "    if flag:\n",
    "        print(i,end=\" \")\n",
    "        \n",
    "        "
   ]
  },
  {
   "cell_type": "markdown",
   "metadata": {},
   "source": [
    "这是一种常规的做法，通过for语句嵌套，逐个判定后再输出。\n",
    "## 0x07.求矩形面积\n",
    "　　已知矩形长a,宽b,输出其面积和周长，面积和周长以一个空格隔开。"
   ]
  },
  {
   "cell_type": "code",
   "execution_count": 2,
   "metadata": {},
   "outputs": [
    {
     "name": "stdout",
     "output_type": "stream",
     "text": [
      "长方形的长与宽分别是？2,3\n",
      "6 10 "
     ]
    }
   ],
   "source": [
    "a,b=eval(input(\"长方形的长与宽分别是？\"))\n",
    "print(a*b,2*(a+b),end=\" \")"
   ]
  },
  {
   "cell_type": "markdown",
   "metadata": {
    "collapsed": true
   },
   "source": [
    "## 0x08.求中位数\n",
    "　　给你一个整数列表L, 输出L的中位数（若结果为小数，则保留一位小数）。"
   ]
  },
  {
   "cell_type": "code",
   "execution_count": 6,
   "metadata": {},
   "outputs": [
    {
     "name": "stdout",
     "output_type": "stream",
     "text": [
      "请输入一个序列[2,7,4,3]\n",
      "[2, 3, 4, 7]\n",
      "3.5\n"
     ]
    }
   ],
   "source": [
    "l=eval(input(\"请输入一个序列\"))\n",
    "l.sort()\n",
    "print(l)\n",
    "if (len(l)+1)%2==1:\n",
    "    print((l[(len(l)+1)//2-1]+l[(len(l)+1)//2])/2)\n",
    "else:\n",
    "    print(l[(len(l)+1)//2-1])"
   ]
  },
  {
   "cell_type": "markdown",
   "metadata": {},
   "source": [
    "## 0x09.最大公约数\n",
    "　　给你两个正整数a和b， 输出它们的最大公约数。"
   ]
  },
  {
   "cell_type": "code",
   "execution_count": 5,
   "metadata": {},
   "outputs": [
    {
     "name": "stdout",
     "output_type": "stream",
     "text": [
      "请输入一组数a,b24,72\n",
      "24\n"
     ]
    }
   ],
   "source": [
    "a,b=eval(input(\"请输入一组数a,b\"))\n",
    "a,b=max(a,b),min(a,b)\n",
    "while a*b!=0:\n",
    "    a,b=b,a%b\n",
    "print(a)"
   ]
  },
  {
   "cell_type": "markdown",
   "metadata": {},
   "source": [
    "　　这一段写的很Python，充分体现了Python的简洁。\n",
    "## 0x0a.最小公倍数\n",
    "　　给你两个正整数a和b， 输出它们的最小公倍数。"
   ]
  },
  {
   "cell_type": "code",
   "execution_count": 9,
   "metadata": {},
   "outputs": [
    {
     "name": "stdout",
     "output_type": "stream",
     "text": [
      "请输入一组数a,b2,3\n",
      "6\n"
     ]
    }
   ],
   "source": [
    "def gys(a,b):\n",
    "    a,b=max(a,b),min(a,b)\n",
    "    while a*b!=0:\n",
    "        a,b=b,a%b\n",
    "    return a\n",
    "a,b=eval(input(\"请输入一组数a,b\"))\n",
    "print(a*b//gys(a,b))"
   ]
  },
  {
   "cell_type": "markdown",
   "metadata": {},
   "source": [
    "## 0x0b.结尾0的个数  \n",
    "给你一个正整数列表L,输出L内所有数字的乘积末尾0的个数。"
   ]
  },
  {
   "cell_type": "code",
   "execution_count": 12,
   "metadata": {},
   "outputs": [
    {
     "name": "stdout",
     "output_type": "stream",
     "text": [
      "请输入一个序列[0,201,6,0,25,8,0]\n",
      "3\n"
     ]
    }
   ],
   "source": [
    "l=eval(input(\"请输入一个序列\"))\n",
    "print(l.count(0))"
   ]
  },
  {
   "cell_type": "markdown",
   "metadata": {},
   "source": [
    "　　不像是道Python题...\n",
    "## 0x0c.结尾非零数的奇偶性\n",
    "　　给你一个正整数列表L,判断列表内所有数字乘积的最后一个非零数字的奇偶性。如果为奇数输出1,偶数则输出0。"
   ]
  },
  {
   "cell_type": "code",
   "execution_count": 2,
   "metadata": {},
   "outputs": [
    {
     "name": "stdout",
     "output_type": "stream",
     "text": [
      "请输入一个序列[2,9,8,5,4]\n",
      "8\n"
     ]
    }
   ],
   "source": [
    "l=eval(input(\"请输入一个序列\"))\n",
    "s=1\n",
    "for i in l:\n",
    "    s=s*i\n",
    "    s=int(str(int(str(s)[::-1]))[0])\n",
    "print(s)"
   ]
  },
  {
   "cell_type": "markdown",
   "metadata": {},
   "source": [
    "　　本题要考虑序列中是否含0的情况，加个if语句即可，在此不赘述。"
   ]
  }
 ],
 "metadata": {
  "kernelspec": {
   "display_name": "Python 3",
   "language": "python",
   "name": "python3"
  },
  "language_info": {
   "codemirror_mode": {
    "name": "ipython",
    "version": 3
   },
   "file_extension": ".py",
   "mimetype": "text/x-python",
   "name": "python",
   "nbconvert_exporter": "python",
   "pygments_lexer": "ipython3",
   "version": "3.6.4"
  }
 },
 "nbformat": 4,
 "nbformat_minor": 2
}
